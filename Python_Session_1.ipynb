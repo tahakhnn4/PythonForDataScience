{
 "cells": [
  {
   "cell_type": "markdown",
   "id": "55eeb56c",
   "metadata": {},
   "source": [
    "1.Python Output"
   ]
  },
  {
   "cell_type": "code",
   "execution_count": 2,
   "id": "01fab2c3",
   "metadata": {},
   "outputs": [
    {
     "name": "stdout",
     "output_type": "stream",
     "text": [
      "Hello World\n"
     ]
    }
   ],
   "source": [
    "print(\"Hello World\")    #this print is a built-in function of python which takes input and displays the output."
   ]
  },
  {
   "cell_type": "code",
   "execution_count": 3,
   "id": "d787e628",
   "metadata": {},
   "outputs": [
    {
     "name": "stdout",
     "output_type": "stream",
     "text": [
      "We are going to learn every important python concept essential for Data Science.\n"
     ]
    }
   ],
   "source": [
    "print(\"We are going to learn every important python concept essential for Data Science.\")"
   ]
  },
  {
   "cell_type": "code",
   "execution_count": 4,
   "id": "5f6d0795",
   "metadata": {},
   "outputs": [
    {
     "name": "stdout",
     "output_type": "stream",
     "text": [
      "123\n"
     ]
    }
   ],
   "source": [
    "print(123)"
   ]
  },
  {
   "cell_type": "code",
   "execution_count": 5,
   "id": "f0eaab81",
   "metadata": {},
   "outputs": [
    {
     "name": "stdout",
     "output_type": "stream",
     "text": [
      "3.2\n"
     ]
    }
   ],
   "source": [
    "print(3.2)"
   ]
  },
  {
   "cell_type": "code",
   "execution_count": 6,
   "id": "c6bebc45",
   "metadata": {},
   "outputs": [
    {
     "name": "stdout",
     "output_type": "stream",
     "text": [
      "True and False\n"
     ]
    }
   ],
   "source": [
    "print(True,\"and\",False)"
   ]
  },
  {
   "cell_type": "code",
   "execution_count": 12,
   "id": "c404f7c1",
   "metadata": {},
   "outputs": [
    {
     "name": "stdout",
     "output_type": "stream",
     "text": [
      "Hello!Brotha.\n"
     ]
    }
   ],
   "source": [
    "print(\"Hello\",\"Brotha.\",sep=\"!\")   #Use of sep=\"\" for choosing what we want to separate. By default it is a space."
   ]
  },
  {
   "cell_type": "code",
   "execution_count": 13,
   "id": "11c92c78",
   "metadata": {},
   "outputs": [
    {
     "name": "stdout",
     "output_type": "stream",
     "text": [
      "Hello World.We are progressing fast."
     ]
    }
   ],
   "source": [
    "print(\"Hello World\",end=\".\")\n",
    "print(\"We are progressing fast\",end=\".\")   #Use of end=\"\" for choosing what we want to end line with.By default it is \\n."
   ]
  },
  {
   "cell_type": "markdown",
   "id": "eb87e945",
   "metadata": {},
   "source": [
    "2.Data Types"
   ]
  },
  {
   "cell_type": "markdown",
   "id": "04773ecd",
   "metadata": {},
   "source": [
    "Data Types are the type of data a programming language can deal with."
   ]
  },
  {
   "cell_type": "code",
   "execution_count": 15,
   "id": "85f1400e",
   "metadata": {},
   "outputs": [
    {
     "name": "stdout",
     "output_type": "stream",
     "text": [
      "318\n",
      "1.4\n",
      "True or False\n",
      "Hello champion!\n",
      "(5+4j)\n",
      "[1, 2, 3, 4, 'Taha', 2.5]\n",
      "(1, 2, 3, 4)\n",
      "{1, 3, 5, 7}\n",
      "{'Name': 'Taha', 'Gender': 'Male'}\n"
     ]
    }
   ],
   "source": [
    "#1.Integer \n",
    "\n",
    "print(1*10^308)    #This is the limit of numbers python can handle.\n",
    "\n",
    "#2.Float/Decimal\n",
    "\n",
    "print(1.4)   #1.5*10^308 is the limit of decimal numbers python can handle.\n",
    "\n",
    "#3.Boolean \n",
    "\n",
    "print(True,\"or\",False)    #Boolean simply means yes or No , also 0 or 1 and Yes or No.\n",
    "\n",
    "#4.String\n",
    "\n",
    "print(\"Hello champion!\")\n",
    "\n",
    "#5.Complex Number\n",
    "\n",
    "print(5+4j)\n",
    "\n",
    "#6.List (Array in C++ but a little different)\n",
    "\n",
    "print([1,2,3,4,\"Taha\",2.5])\n",
    "\n",
    "#7.Tuple \n",
    "\n",
    "print((1,2,3,4))\n",
    "\n",
    "#8.Sets\n",
    "\n",
    "print({1,3,5,7})\n",
    "\n",
    "#9.Dictionary \n",
    "\n",
    "print({'Name':\"Taha\",'Gender':\"Male\"})\n",
    "\n"
   ]
  },
  {
   "cell_type": "code",
   "execution_count": 16,
   "id": "8068567e",
   "metadata": {},
   "outputs": [
    {
     "data": {
      "text/plain": [
       "int"
      ]
     },
     "execution_count": 16,
     "metadata": {},
     "output_type": "execute_result"
    }
   ],
   "source": [
    "type(2)  #type is a function that is used to get the data type of value inserted.\n"
   ]
  },
  {
   "cell_type": "markdown",
   "id": "a4149b1a",
   "metadata": {},
   "source": [
    "3. Variable"
   ]
  },
  {
   "cell_type": "markdown",
   "id": "b3c771ea",
   "metadata": {},
   "source": [
    "Variables serve as a container for different values."
   ]
  },
  {
   "cell_type": "code",
   "execution_count": 17,
   "id": "b852a45f",
   "metadata": {},
   "outputs": [
    {
     "name": "stdout",
     "output_type": "stream",
     "text": [
      "tahakhan\n"
     ]
    }
   ],
   "source": [
    "x=\"tahakhan\"         #this x is a variable(container) having tahakhan as a value.We can also call it as a reference in memory.\n",
    "print(x) "
   ]
  },
  {
   "cell_type": "markdown",
   "id": "30140a69",
   "metadata": {},
   "source": [
    "Dynamic Typing:  It is a concept of python in which we donot tell the programming language about the data type of variable infact the interpretor itself recognize it. \n",
    "\n",
    "Static Typing: It is a concept of other languages like C++ in which we have to specify the data type of variable we are creating.\n",
    "\n",
    "a=5   #simple declare a variable in memory and store value, no need to specify data type.\n"
   ]
  },
  {
   "cell_type": "markdown",
   "id": "cfdc54fe",
   "metadata": {},
   "source": [
    "Dynamic Binding is a concept in which we can use a variable multiple times in a code changing its datatype or value both unlike Static Binding in which we cannot change the datatype of variable once set although the vakue can be changed."
   ]
  },
  {
   "cell_type": "code",
   "execution_count": 19,
   "id": "3c6dcf60",
   "metadata": {},
   "outputs": [
    {
     "name": "stdout",
     "output_type": "stream",
     "text": [
      "1 2 3\n",
      "1 2 3\n",
      "10 10 10\n"
     ]
    }
   ],
   "source": [
    "a=1\n",
    "b=2\n",
    "c=3\n",
    "print(a,b,c)   #Takes 4 lines for declaring and printing\n",
    "\n",
    "a,b,c=1,2,3\n",
    "print(a,b,c)   #Takes 2 lines only\n",
    "\n",
    "#if you want to give same value to multiple variable\n",
    "\n",
    "a=b=c=10\n",
    "print(a,b,c)"
   ]
  },
  {
   "cell_type": "markdown",
   "id": "d950a153",
   "metadata": {},
   "source": [
    "4. Keywords and Identifiers"
   ]
  },
  {
   "cell_type": "code",
   "execution_count": 20,
   "id": "66f7489f",
   "metadata": {},
   "outputs": [],
   "source": [
    "#In python there are certain words reserved for python interpretor for its understanding so we don't use them as variables.\n",
    "\n",
    "#Name of a variable we decide in a program is an identifier.Can never start from a digit or any other special letter.Also if we use special letter in the middle or end we can only use \"_\" nothing else.\"_\" can also e using in the starting\"\n",
    "\n"
   ]
  },
  {
   "cell_type": "markdown",
   "id": "6614fecc",
   "metadata": {},
   "source": [
    "5. User Input"
   ]
  },
  {
   "cell_type": "code",
   "execution_count": 24,
   "id": "b313d06b",
   "metadata": {},
   "outputs": [
    {
     "data": {
      "text/plain": [
       "str"
      ]
     },
     "execution_count": 24,
     "metadata": {},
     "output_type": "execute_result"
    }
   ],
   "source": [
    "input(\"Enter your name\")    #input() is built-in function of python that takes input from user and display it.By default the input is of string data type.\n",
    "\n",
    "x=input(\"Enter a number\")\n",
    "type(x)   #This will result in str because by default the data type of input in string."
   ]
  },
  {
   "cell_type": "markdown",
   "id": "0a0d0562",
   "metadata": {},
   "source": [
    "6. Type Conversion"
   ]
  },
  {
   "cell_type": "code",
   "execution_count": 30,
   "id": "8b7c777d",
   "metadata": {},
   "outputs": [
    {
     "name": "stdout",
     "output_type": "stream",
     "text": [
      "<class 'str'>\n",
      "<class 'str'>\n",
      "<class 'int'>\n",
      "<class 'int'>\n",
      "<class 'str'>\n",
      "<class 'int'>\n",
      "<class 'float'>\n",
      "<class 'int'>\n"
     ]
    }
   ],
   "source": [
    "#Implicit type conversion is something python do itself and explicit type conversion is perfomed by programmer himself.\n",
    "\n",
    "x=\"1245\"\n",
    "print(type(x))\n",
    "\n",
    "int(x)\n",
    "print(type(x))     #This gives answer str because python doesn't change original data type,infact it is temporary.\n",
    "\n",
    "print(type(int(x)))   \n",
    "\n",
    "y=25\n",
    "print(type(y))\n",
    "\n",
    "print(type(str(y)))\n",
    "\n",
    "z=3\n",
    "print(type(z))\n",
    "\n",
    "print(type(float(z)))\n",
    "\n",
    "\n",
    "#Using this concept now we can change the data type of user input\n",
    "\n",
    "a=int(input(\"Enter number\"))\n",
    "print(type(a))"
   ]
  },
  {
   "cell_type": "markdown",
   "id": "9c271164",
   "metadata": {},
   "source": [
    "7. Literals"
   ]
  },
  {
   "cell_type": "code",
   "execution_count": 32,
   "id": "aebb58c6",
   "metadata": {},
   "outputs": [
    {
     "name": "stdout",
     "output_type": "stream",
     "text": [
      "1.0 and 13.4\n"
     ]
    }
   ],
   "source": [
    "#The value we store in a variale is called as a literal.\n",
    "\n",
    "a= 0b10 #binary literal\n",
    "b= 100  #decimal literal \n",
    "c= 0o310  #octal lteral \n",
    "d= 0x10c #hexadecimal literal\n",
    "\n",
    "#Float literal\n",
    "f1= 10.5\n",
    "f2= 1e3  \n",
    "f3= 1e-3\n",
    "\n",
    "#Complex literal \n",
    "x= 1+13.4j\n",
    "print(x.real,\"and\",x.imag)\n",
    "\n",
    "\n"
   ]
  },
  {
   "cell_type": "code",
   "execution_count": 33,
   "id": "14e2f4b8",
   "metadata": {},
   "outputs": [],
   "source": [
    "a= None  #Special python literal used where we want to declare a variable in the start of program and use it later to assign some value to it.\n",
    "\n"
   ]
  }
 ],
 "metadata": {
  "kernelspec": {
   "display_name": "base",
   "language": "python",
   "name": "python3"
  },
  "language_info": {
   "codemirror_mode": {
    "name": "ipython",
    "version": 3
   },
   "file_extension": ".py",
   "mimetype": "text/x-python",
   "name": "python",
   "nbconvert_exporter": "python",
   "pygments_lexer": "ipython3",
   "version": "3.12.7"
  }
 },
 "nbformat": 4,
 "nbformat_minor": 5
}
