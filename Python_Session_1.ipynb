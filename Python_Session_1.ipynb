{
 "cells": [
  {
   "cell_type": "markdown",
   "id": "55eeb56c",
   "metadata": {},
   "source": [
    "1.Python Output"
   ]
  },
  {
   "cell_type": "code",
   "execution_count": 2,
   "id": "01fab2c3",
   "metadata": {},
   "outputs": [
    {
     "name": "stdout",
     "output_type": "stream",
     "text": [
      "Hello World\n"
     ]
    }
   ],
   "source": [
    "print(\"Hello World\")    #this print is a built-in function of python which takes input and displays the output."
   ]
  },
  {
   "cell_type": "code",
   "execution_count": null,
   "id": "d787e628",
   "metadata": {},
   "outputs": [],
   "source": [
    "print(\"We are going to learn every important python concept essential for Data Science.\")"
   ]
  }
 ],
 "metadata": {
  "kernelspec": {
   "display_name": "base",
   "language": "python",
   "name": "python3"
  },
  "language_info": {
   "codemirror_mode": {
    "name": "ipython",
    "version": 3
   },
   "file_extension": ".py",
   "mimetype": "text/x-python",
   "name": "python",
   "nbconvert_exporter": "python",
   "pygments_lexer": "ipython3",
   "version": "3.12.7"
  }
 },
 "nbformat": 4,
 "nbformat_minor": 5
}
