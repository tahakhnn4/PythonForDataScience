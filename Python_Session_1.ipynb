{
 "cells": [
  {
   "cell_type": "markdown",
   "id": "55eeb56c",
   "metadata": {},
   "source": [
    "1.Python Output"
   ]
  },
  {
   "cell_type": "code",
   "execution_count": 2,
   "id": "01fab2c3",
   "metadata": {},
   "outputs": [
    {
     "name": "stdout",
     "output_type": "stream",
     "text": [
      "Hello World\n"
     ]
    }
   ],
   "source": [
    "print(\"Hello World\")    #this print is a built-in function of python which takes input and displays the output."
   ]
  },
  {
   "cell_type": "code",
   "execution_count": 3,
   "id": "d787e628",
   "metadata": {},
   "outputs": [
    {
     "name": "stdout",
     "output_type": "stream",
     "text": [
      "We are going to learn every important python concept essential for Data Science.\n"
     ]
    }
   ],
   "source": [
    "print(\"We are going to learn every important python concept essential for Data Science.\")"
   ]
  },
  {
   "cell_type": "code",
   "execution_count": 4,
   "id": "5f6d0795",
   "metadata": {},
   "outputs": [
    {
     "name": "stdout",
     "output_type": "stream",
     "text": [
      "123\n"
     ]
    }
   ],
   "source": [
    "print(123)"
   ]
  },
  {
   "cell_type": "code",
   "execution_count": 5,
   "id": "f0eaab81",
   "metadata": {},
   "outputs": [
    {
     "name": "stdout",
     "output_type": "stream",
     "text": [
      "3.2\n"
     ]
    }
   ],
   "source": [
    "print(3.2)"
   ]
  },
  {
   "cell_type": "code",
   "execution_count": 6,
   "id": "c6bebc45",
   "metadata": {},
   "outputs": [
    {
     "name": "stdout",
     "output_type": "stream",
     "text": [
      "True and False\n"
     ]
    }
   ],
   "source": [
    "print(True,\"and\",False)"
   ]
  },
  {
   "cell_type": "code",
   "execution_count": 12,
   "id": "c404f7c1",
   "metadata": {},
   "outputs": [
    {
     "name": "stdout",
     "output_type": "stream",
     "text": [
      "Hello!Brotha.\n"
     ]
    }
   ],
   "source": [
    "print(\"Hello\",\"Brotha.\",sep=\"!\")   #Use of sep=\"\" for choosing what we want to separate. By default it is a space."
   ]
  },
  {
   "cell_type": "code",
   "execution_count": 13,
   "id": "11c92c78",
   "metadata": {},
   "outputs": [
    {
     "name": "stdout",
     "output_type": "stream",
     "text": [
      "Hello World.We are progressing fast."
     ]
    }
   ],
   "source": [
    "print(\"Hello World\",end=\".\")\n",
    "print(\"We are progressing fast\",end=\".\")   #Use of end=\"\" for choosing what we want to end line with.By default it is \\n."
   ]
  },
  {
   "cell_type": "markdown",
   "id": "eb87e945",
   "metadata": {},
   "source": [
    "2.Data Types"
   ]
  },
  {
   "cell_type": "markdown",
   "id": "04773ecd",
   "metadata": {},
   "source": [
    "Data Types are the type of data a programming language can deal with."
   ]
  },
  {
   "cell_type": "code",
   "execution_count": 15,
   "id": "85f1400e",
   "metadata": {},
   "outputs": [
    {
     "name": "stdout",
     "output_type": "stream",
     "text": [
      "318\n",
      "1.4\n",
      "True or False\n",
      "Hello champion!\n",
      "(5+4j)\n",
      "[1, 2, 3, 4, 'Taha', 2.5]\n",
      "(1, 2, 3, 4)\n",
      "{1, 3, 5, 7}\n",
      "{'Name': 'Taha', 'Gender': 'Male'}\n"
     ]
    }
   ],
   "source": [
    "#1.Integer \n",
    "\n",
    "print(1*10^308)    #This is the limit of numbers python can handle.\n",
    "\n",
    "#2.Float/Decimal\n",
    "\n",
    "print(1.4)   #1.5*10^308 is the limit of decimal numbers python can handle.\n",
    "\n",
    "#3.Boolean \n",
    "\n",
    "print(True,\"or\",False)    #Boolean simply means yes or No , also 0 or 1 and Yes or No.\n",
    "\n",
    "#4.String\n",
    "\n",
    "print(\"Hello champion!\")\n",
    "\n",
    "#5.Complex Number\n",
    "\n",
    "print(5+4j)\n",
    "\n",
    "#6.List (Array in C++ but a little different)\n",
    "\n",
    "print([1,2,3,4,\"Taha\",2.5])\n",
    "\n",
    "#7.Tuple \n",
    "\n",
    "print((1,2,3,4))\n",
    "\n",
    "#8.Sets\n",
    "\n",
    "print({1,3,5,7})\n",
    "\n",
    "#9.Dictionary \n",
    "\n",
    "print({'Name':\"Taha\",'Gender':\"Male\"})\n",
    "\n"
   ]
  },
  {
   "cell_type": "code",
   "execution_count": 16,
   "id": "8068567e",
   "metadata": {},
   "outputs": [
    {
     "data": {
      "text/plain": [
       "int"
      ]
     },
     "execution_count": 16,
     "metadata": {},
     "output_type": "execute_result"
    }
   ],
   "source": [
    "type(2)  #type is a function that is used to get the data type of value inserted.\n"
   ]
  },
  {
   "cell_type": "markdown",
   "id": "a4149b1a",
   "metadata": {},
   "source": [
    "3. Variable"
   ]
  },
  {
   "cell_type": "markdown",
   "id": "b3c771ea",
   "metadata": {},
   "source": [
    "Variables serve as a container for different values."
   ]
  },
  {
   "cell_type": "code",
   "execution_count": 17,
   "id": "b852a45f",
   "metadata": {},
   "outputs": [
    {
     "name": "stdout",
     "output_type": "stream",
     "text": [
      "tahakhan\n"
     ]
    }
   ],
   "source": [
    "x=\"tahakhan\"         #this x is a variable(container) having tahakhan as a value.We can also call it as a reference in memory.\n",
    "print(x) "
   ]
  },
  {
   "cell_type": "markdown",
   "id": "30140a69",
   "metadata": {},
   "source": [
    "Dynamic Typing:  It is a concept of python in which we donot tell the programming language about the data type of variable infact the interpretor itself recognize it. \n",
    "\n",
    "Static Typing: It is a concept of other languages like C++ in which we have to specify the data type of variable we are creating.\n",
    "\n",
    "a=5   #simple declare a variable in memory and store value, no need to specify data type.\n"
   ]
  },
  {
   "cell_type": "markdown",
   "id": "cfdc54fe",
   "metadata": {},
   "source": [
    "Dynamic Binding is a concept in which we can use a variable multiple times in a code changing its datatype or value both unlike Static Binding in which we cannot change the datatype of variable once set although the vakue can be changed."
   ]
  },
  {
   "cell_type": "code",
   "execution_count": 19,
   "id": "3c6dcf60",
   "metadata": {},
   "outputs": [
    {
     "name": "stdout",
     "output_type": "stream",
     "text": [
      "1 2 3\n",
      "1 2 3\n",
      "10 10 10\n"
     ]
    }
   ],
   "source": [
    "a=1\n",
    "b=2\n",
    "c=3\n",
    "print(a,b,c)   #Takes 4 lines for declaring and printing\n",
    "\n",
    "a,b,c=1,2,3\n",
    "print(a,b,c)   #Takes 2 lines only\n",
    "\n",
    "#if you want to give same value to multiple variable\n",
    "\n",
    "a=b=c=10\n",
    "print(a,b,c)"
   ]
  },
  {
   "cell_type": "code",
   "execution_count": null,
   "id": "d950a153",
   "metadata": {},
   "outputs": [],
   "source": []
  }
 ],
 "metadata": {
  "kernelspec": {
   "display_name": "base",
   "language": "python",
   "name": "python3"
  },
  "language_info": {
   "codemirror_mode": {
    "name": "ipython",
    "version": 3
   },
   "file_extension": ".py",
   "mimetype": "text/x-python",
   "name": "python",
   "nbconvert_exporter": "python",
   "pygments_lexer": "ipython3",
   "version": "3.12.7"
  }
 },
 "nbformat": 4,
 "nbformat_minor": 5
}
